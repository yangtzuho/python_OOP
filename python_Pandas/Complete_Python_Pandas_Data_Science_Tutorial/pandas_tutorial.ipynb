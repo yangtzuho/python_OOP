{
 "cells": [
  {
   "cell_type": "markdown",
   "source": [
    "## Load data in Pandas"
   ],
   "metadata": {}
  },
  {
   "cell_type": "code",
   "execution_count": 10,
   "source": [
    "import pandas as pd \n",
    "\n",
    "data_path = './data/'\n",
    "csv_data = 'pokemon_data.csv'\n",
    "txt_data = 'pokemon_data.txt'\n",
    "excel_data = 'pokemon_data.xlsx'\n",
    "\n",
    "df = pd.read_csv(data_path + csv_data)\n",
    "df_excel = pd.read_excel(data_path + excel_data)\n",
    "df_txt = pd.read_csv(data_path + txt_data, delimiter='\\t')\n",
    "\n",
    "print(df_txt.head())\n",
    "print(df_excel.head())\n",
    "print(df.head())"
   ],
   "outputs": [
    {
     "output_type": "stream",
     "name": "stdout",
     "text": [
      "   #                   Name Type 1  Type 2  HP  Attack  Defense  Sp. Atk  \\\n",
      "0  1              Bulbasaur  Grass  Poison  45      49       49       65   \n",
      "1  2                Ivysaur  Grass  Poison  60      62       63       80   \n",
      "2  3               Venusaur  Grass  Poison  80      82       83      100   \n",
      "3  3  VenusaurMega Venusaur  Grass  Poison  80     100      123      122   \n",
      "4  4             Charmander   Fire     NaN  39      52       43       60   \n",
      "\n",
      "   Sp. Def  Speed  Generation  Legendary  \n",
      "0       65     45           1      False  \n",
      "1       80     60           1      False  \n",
      "2      100     80           1      False  \n",
      "3      120     80           1      False  \n",
      "4       50     65           1      False  \n"
     ]
    }
   ],
   "metadata": {}
  },
  {
   "cell_type": "markdown",
   "source": [],
   "metadata": {}
  }
 ],
 "metadata": {
  "orig_nbformat": 4,
  "language_info": {
   "name": "python",
   "version": "3.10.0",
   "mimetype": "text/x-python",
   "codemirror_mode": {
    "name": "ipython",
    "version": 3
   },
   "pygments_lexer": "ipython3",
   "nbconvert_exporter": "python",
   "file_extension": ".py"
  },
  "kernelspec": {
   "name": "python3",
   "display_name": "Python 3.10.0 64-bit"
  },
  "interpreter": {
   "hash": "aee8b7b246df8f9039afb4144a1f6fd8d2ca17a180786b69acc140d282b71a49"
  }
 },
 "nbformat": 4,
 "nbformat_minor": 2
}