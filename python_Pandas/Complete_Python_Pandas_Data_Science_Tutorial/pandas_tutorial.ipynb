{
 "cells": [
  {
   "cell_type": "markdown",
   "source": [
    "## Load data in Pandas"
   ],
   "metadata": {}
  },
  {
   "cell_type": "code",
   "execution_count": 5,
   "source": [
    "import pandas as pd \n",
    "\n",
    "data_path = './data/'\n",
    "csv_data = 'pokemon_data.csv'\n",
    "txt_data = 'pokemon_data.txt'\n",
    "excel_data = 'pokemon_data.xlsx'\n",
    "\n",
    "df = pd.read_csv(data_path + csv_data)\n",
    "df_excel = pd.read_excel(data_path + excel_data)\n",
    "df_txt = pd.read_csv(data_path + txt_data, delimiter='\\t')\n",
    "\n",
    "# print(df_txt.head())\n",
    "#print(df_excel.head())\n",
    "# print(df.head())"
   ],
   "outputs": [],
   "metadata": {}
  },
  {
   "cell_type": "markdown",
   "source": [
    "## Reading Data in Pandas"
   ],
   "metadata": {}
  },
  {
   "cell_type": "code",
   "execution_count": 2,
   "source": [
    "# #Read Headers\n",
    "# print(df.columns)\n",
    "\n",
    "# #Read Each Column\n",
    "# print(df['Name'][0:5])\n",
    "# print(df[['Name', 'Type 1', 'Type 2']])\n",
    "\n",
    "# #Read Each Row\n",
    "# print(df.head(4))\n",
    "# print(df.iloc[1]) # the 1 row\n",
    "# print(df.iloc[1:4]) # the 1-4 rows\n",
    "\n",
    "# # A useful way to get rows\n",
    "# for index, row in df.iterrows():\n",
    "#     print(index, row['Name'])\n",
    "\n",
    "# # 对特定的字段进行条件查询\n",
    "# df.loc[df['Type 1'] == \"Fire\"]\n",
    "\n",
    "# #Read a specific Location(R, C)\n",
    "# print(df.iloc[2, 1])\n"
   ],
   "outputs": [],
   "metadata": {}
  },
  {
   "cell_type": "markdown",
   "source": [
    "## Sorting/Describing Data"
   ],
   "metadata": {}
  },
  {
   "cell_type": "code",
   "execution_count": 10,
   "source": [
    "# df.describe()\n",
    "# df.sort_values(\"Name\", ascending=False)\n",
    "# df.sort_values([\"Type 1\", \"HP\"], ascending=True)\n",
    "# df.sort_values([\"Type 1\", \"HP\"], ascending=[True, False]) # [1, 0]"
   ],
   "outputs": [
    {
     "output_type": "execute_result",
     "data": {
      "text/html": [
       "<div>\n",
       "<style scoped>\n",
       "    .dataframe tbody tr th:only-of-type {\n",
       "        vertical-align: middle;\n",
       "    }\n",
       "\n",
       "    .dataframe tbody tr th {\n",
       "        vertical-align: top;\n",
       "    }\n",
       "\n",
       "    .dataframe thead th {\n",
       "        text-align: right;\n",
       "    }\n",
       "</style>\n",
       "<table border=\"1\" class=\"dataframe\">\n",
       "  <thead>\n",
       "    <tr style=\"text-align: right;\">\n",
       "      <th></th>\n",
       "      <th>#</th>\n",
       "      <th>Name</th>\n",
       "      <th>Type 1</th>\n",
       "      <th>Type 2</th>\n",
       "      <th>HP</th>\n",
       "      <th>Attack</th>\n",
       "      <th>Defense</th>\n",
       "      <th>Sp. Atk</th>\n",
       "      <th>Sp. Def</th>\n",
       "      <th>Speed</th>\n",
       "      <th>Generation</th>\n",
       "      <th>Legendary</th>\n",
       "    </tr>\n",
       "  </thead>\n",
       "  <tbody>\n",
       "    <tr>\n",
       "      <th>520</th>\n",
       "      <td>469</td>\n",
       "      <td>Yanmega</td>\n",
       "      <td>Bug</td>\n",
       "      <td>Flying</td>\n",
       "      <td>86</td>\n",
       "      <td>76</td>\n",
       "      <td>86</td>\n",
       "      <td>116</td>\n",
       "      <td>56</td>\n",
       "      <td>95</td>\n",
       "      <td>4</td>\n",
       "      <td>False</td>\n",
       "    </tr>\n",
       "    <tr>\n",
       "      <th>698</th>\n",
       "      <td>637</td>\n",
       "      <td>Volcarona</td>\n",
       "      <td>Bug</td>\n",
       "      <td>Fire</td>\n",
       "      <td>85</td>\n",
       "      <td>60</td>\n",
       "      <td>65</td>\n",
       "      <td>135</td>\n",
       "      <td>105</td>\n",
       "      <td>100</td>\n",
       "      <td>5</td>\n",
       "      <td>False</td>\n",
       "    </tr>\n",
       "    <tr>\n",
       "      <th>231</th>\n",
       "      <td>214</td>\n",
       "      <td>Heracross</td>\n",
       "      <td>Bug</td>\n",
       "      <td>Fighting</td>\n",
       "      <td>80</td>\n",
       "      <td>125</td>\n",
       "      <td>75</td>\n",
       "      <td>40</td>\n",
       "      <td>95</td>\n",
       "      <td>85</td>\n",
       "      <td>2</td>\n",
       "      <td>False</td>\n",
       "    </tr>\n",
       "    <tr>\n",
       "      <th>232</th>\n",
       "      <td>214</td>\n",
       "      <td>HeracrossMega Heracross</td>\n",
       "      <td>Bug</td>\n",
       "      <td>Fighting</td>\n",
       "      <td>80</td>\n",
       "      <td>185</td>\n",
       "      <td>115</td>\n",
       "      <td>40</td>\n",
       "      <td>105</td>\n",
       "      <td>75</td>\n",
       "      <td>2</td>\n",
       "      <td>False</td>\n",
       "    </tr>\n",
       "    <tr>\n",
       "      <th>678</th>\n",
       "      <td>617</td>\n",
       "      <td>Accelgor</td>\n",
       "      <td>Bug</td>\n",
       "      <td>NaN</td>\n",
       "      <td>80</td>\n",
       "      <td>70</td>\n",
       "      <td>40</td>\n",
       "      <td>100</td>\n",
       "      <td>60</td>\n",
       "      <td>145</td>\n",
       "      <td>5</td>\n",
       "      <td>False</td>\n",
       "    </tr>\n",
       "    <tr>\n",
       "      <th>...</th>\n",
       "      <td>...</td>\n",
       "      <td>...</td>\n",
       "      <td>...</td>\n",
       "      <td>...</td>\n",
       "      <td>...</td>\n",
       "      <td>...</td>\n",
       "      <td>...</td>\n",
       "      <td>...</td>\n",
       "      <td>...</td>\n",
       "      <td>...</td>\n",
       "      <td>...</td>\n",
       "      <td>...</td>\n",
       "    </tr>\n",
       "    <tr>\n",
       "      <th>106</th>\n",
       "      <td>98</td>\n",
       "      <td>Krabby</td>\n",
       "      <td>Water</td>\n",
       "      <td>NaN</td>\n",
       "      <td>30</td>\n",
       "      <td>105</td>\n",
       "      <td>90</td>\n",
       "      <td>25</td>\n",
       "      <td>25</td>\n",
       "      <td>50</td>\n",
       "      <td>1</td>\n",
       "      <td>False</td>\n",
       "    </tr>\n",
       "    <tr>\n",
       "      <th>125</th>\n",
       "      <td>116</td>\n",
       "      <td>Horsea</td>\n",
       "      <td>Water</td>\n",
       "      <td>NaN</td>\n",
       "      <td>30</td>\n",
       "      <td>40</td>\n",
       "      <td>70</td>\n",
       "      <td>70</td>\n",
       "      <td>25</td>\n",
       "      <td>60</td>\n",
       "      <td>1</td>\n",
       "      <td>False</td>\n",
       "    </tr>\n",
       "    <tr>\n",
       "      <th>129</th>\n",
       "      <td>120</td>\n",
       "      <td>Staryu</td>\n",
       "      <td>Water</td>\n",
       "      <td>NaN</td>\n",
       "      <td>30</td>\n",
       "      <td>45</td>\n",
       "      <td>55</td>\n",
       "      <td>70</td>\n",
       "      <td>55</td>\n",
       "      <td>85</td>\n",
       "      <td>1</td>\n",
       "      <td>False</td>\n",
       "    </tr>\n",
       "    <tr>\n",
       "      <th>139</th>\n",
       "      <td>129</td>\n",
       "      <td>Magikarp</td>\n",
       "      <td>Water</td>\n",
       "      <td>NaN</td>\n",
       "      <td>20</td>\n",
       "      <td>10</td>\n",
       "      <td>55</td>\n",
       "      <td>15</td>\n",
       "      <td>20</td>\n",
       "      <td>80</td>\n",
       "      <td>1</td>\n",
       "      <td>False</td>\n",
       "    </tr>\n",
       "    <tr>\n",
       "      <th>381</th>\n",
       "      <td>349</td>\n",
       "      <td>Feebas</td>\n",
       "      <td>Water</td>\n",
       "      <td>NaN</td>\n",
       "      <td>20</td>\n",
       "      <td>15</td>\n",
       "      <td>20</td>\n",
       "      <td>10</td>\n",
       "      <td>55</td>\n",
       "      <td>80</td>\n",
       "      <td>3</td>\n",
       "      <td>False</td>\n",
       "    </tr>\n",
       "  </tbody>\n",
       "</table>\n",
       "<p>800 rows × 12 columns</p>\n",
       "</div>"
      ],
      "text/plain": [
       "       #                     Name Type 1    Type 2  HP  Attack  Defense  \\\n",
       "520  469                  Yanmega    Bug    Flying  86      76       86   \n",
       "698  637                Volcarona    Bug      Fire  85      60       65   \n",
       "231  214                Heracross    Bug  Fighting  80     125       75   \n",
       "232  214  HeracrossMega Heracross    Bug  Fighting  80     185      115   \n",
       "678  617                 Accelgor    Bug       NaN  80      70       40   \n",
       "..   ...                      ...    ...       ...  ..     ...      ...   \n",
       "106   98                   Krabby  Water       NaN  30     105       90   \n",
       "125  116                   Horsea  Water       NaN  30      40       70   \n",
       "129  120                   Staryu  Water       NaN  30      45       55   \n",
       "139  129                 Magikarp  Water       NaN  20      10       55   \n",
       "381  349                   Feebas  Water       NaN  20      15       20   \n",
       "\n",
       "     Sp. Atk  Sp. Def  Speed  Generation  Legendary  \n",
       "520      116       56     95           4      False  \n",
       "698      135      105    100           5      False  \n",
       "231       40       95     85           2      False  \n",
       "232       40      105     75           2      False  \n",
       "678      100       60    145           5      False  \n",
       "..       ...      ...    ...         ...        ...  \n",
       "106       25       25     50           1      False  \n",
       "125       70       25     60           1      False  \n",
       "129       70       55     85           1      False  \n",
       "139       15       20     80           1      False  \n",
       "381       10       55     80           3      False  \n",
       "\n",
       "[800 rows x 12 columns]"
      ]
     },
     "metadata": {},
     "execution_count": 10
    }
   ],
   "metadata": {}
  },
  {
   "cell_type": "markdown",
   "source": [
    "## Making changes to the Data"
   ],
   "metadata": {}
  },
  {
   "cell_type": "code",
   "execution_count": 19,
   "source": [
    "# df['Total'] = df['HP'] + df['Attack'] + df['Defense'] + df['Sp. Atk'] + df['Sp. Def'] + df['Speed']\n",
    "# df = df.drop(columns='Total') # 如果要删除多列，column=[]\n",
    "# df['Total'] = df.iloc[:, 4:10].sum(axis=1)\n",
    "\n",
    "# cols = list(df.columns.values)\n",
    "# df = df[cols[0:4] + [cols[-1]] + cols[4:12 ]]\n",
    "\n",
    "# df.head(5)"
   ],
   "outputs": [],
   "metadata": {}
  },
  {
   "cell_type": "markdown",
   "source": [
    "## Saving Our Data (Exporting into Desired Format)"
   ],
   "metadata": {}
  },
  {
   "cell_type": "code",
   "execution_count": 25,
   "source": [
    "# df.to_csv(data_path + \"modified.csv\", index=False)\n",
    "\n",
    "# df.to_excel(data_path + \"modified.xlsx\", index=False)\n",
    "\n",
    "# df.to_csv(data_path + \"modified.txt\", index=False, sep='\\t')"
   ],
   "outputs": [],
   "metadata": {}
  },
  {
   "cell_type": "markdown",
   "source": [
    "## Filtering the Data"
   ],
   "metadata": {}
  },
  {
   "cell_type": "code",
   "execution_count": 70,
   "source": [
    "# df.loc[df[\"Type 1\"] == \"Grass\"]\n",
    "# new_df = df.loc[(df[\"Type 1\"] == \"Grass\") & (df[\"Type 2\"] == \"Poison\") & (df[\"HP\"] > 70)] # and & ; or | \n",
    "# new_df\n",
    "# new_df.to_csv(data_path + \"filtered.csv\")\n",
    "# new_df = new_df.reset_index(drop=True) # Drop丢弃原来的索引\n",
    "# new_df.reset_index(drop=True, inplace=True) # 不同赋值，直接在原来的表格上进行修改\n",
    "\n",
    "# new_df"
   ],
   "outputs": [],
   "metadata": {}
  },
  {
   "cell_type": "code",
   "execution_count": 69,
   "source": [
    "# df.loc[df['Name'].str.contains('Mega')]\n",
    "# df.loc[~df['Name'].str.contains('Mega')]"
   ],
   "outputs": [],
   "metadata": {}
  },
  {
   "cell_type": "code",
   "execution_count": 71,
   "source": [
    "import re\n",
    "\n",
    "# df.loc[df['Type 1'].str.contains('fire|grass', regex=True)] # 没有任何返回，因为大小写敏感\n",
    "# df.loc[df['Type 1'].str.contains('fire|grass', flags = re.I, regex=True)] # 有返回，因为忽略大小写\n",
    "# df.loc[df['Name'].str.contains('^pi[a-z]*', flags=re.I, regex=True)] # start with pi"
   ],
   "outputs": [],
   "metadata": {}
  },
  {
   "cell_type": "markdown",
   "source": [
    "## Consitional Changes"
   ],
   "metadata": {}
  },
  {
   "cell_type": "code",
   "execution_count": 72,
   "source": [
    "# df.loc[df['Type 1'] == 'Fire', 'Type 1'] = 'Flamer'\n",
    "# df.loc[df['Type 1'] == 'Flamer', 'Type 1'] = 'Fire' # 还原\n",
    "\n",
    "# df.loc[df['Type 1'] == 'Fire', 'Legendary'] = True\n",
    "# df"
   ],
   "outputs": [],
   "metadata": {}
  },
  {
   "cell_type": "code",
   "execution_count": 73,
   "source": [
    "# df = pd.read_csv(data_path + 'modified.csv')\n",
    "# df.loc[df['Total'] > 500, ['Generation', 'Legendary ']] = 'TEST VALUE'\n",
    "\n",
    "# df.loc[df['Total'] > 500, ['Generation', 'Legendary ']] = ['TEST 1', 'TEST 2']\n",
    "# df"
   ],
   "outputs": [],
   "metadata": {}
  },
  {
   "cell_type": "markdown",
   "source": [
    "## Aggregate Statistics (Groupby)"
   ],
   "metadata": {}
  },
  {
   "cell_type": "code",
   "execution_count": 74,
   "source": [
    "df = pd.read_csv(data_path + 'modified.csv')\n",
    "\n",
    "# df.groupby(['Type 1']).mean().sort_values('Defense', ascending=False)\n",
    "# df.groupby(['Type 1']).sum()\n",
    "\n",
    "# df['count'] = 1\n",
    "# df.groupby(['Type 1']).count()['count']\n",
    "# df.groupby(['Type 1', 'Type 2']).count()['count']"
   ],
   "outputs": [],
   "metadata": {}
  },
  {
   "cell_type": "markdown",
   "source": [
    "## Working with large amounts of data"
   ],
   "metadata": {}
  },
  {
   "cell_type": "code",
   "execution_count": 75,
   "source": [
    "# new_df = pd.DataFrame(columns=df.columns)\n",
    "\n",
    "# for df in pd.read_csv(data_path + 'modified.csv', chunksize=5):\n",
    "#     result = df.groupby(['Type 1']).count()\n",
    "#     print(result)\n",
    "#     new_df = pd.concat([new_df, result ])\n"
   ],
   "outputs": [],
   "metadata": {}
  },
  {
   "cell_type": "code",
   "execution_count": 76,
   "source": [
    "# print(new_df)"
   ],
   "outputs": [],
   "metadata": {}
  }
 ],
 "metadata": {
  "orig_nbformat": 4,
  "language_info": {
   "name": "python",
   "version": "3.10.0",
   "mimetype": "text/x-python",
   "codemirror_mode": {
    "name": "ipython",
    "version": 3
   },
   "pygments_lexer": "ipython3",
   "nbconvert_exporter": "python",
   "file_extension": ".py"
  },
  "kernelspec": {
   "name": "python3",
   "display_name": "Python 3.10.0 64-bit"
  },
  "interpreter": {
   "hash": "aee8b7b246df8f9039afb4144a1f6fd8d2ca17a180786b69acc140d282b71a49"
  }
 },
 "nbformat": 4,
 "nbformat_minor": 2
}